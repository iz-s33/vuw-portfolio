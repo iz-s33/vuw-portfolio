{
 "cells": [
  {
   "cell_type": "markdown",
   "id": "0ca76350",
   "metadata": {},
   "source": [
    "# Assignment 2 - Probability and Statistics, Ethics and privacy\n",
    "\n",
    "This assignment is worth 10% of your final grade.\n",
    "\n",
    "It is due at **6pm on Thursday 17 August**, and should be submitted as a single Jupyter Notebook, through the \"Assignment 2\" link in Blackboard\n",
    "\n",
    "The assignment makes use of the `scipy.stats` package and the `statsmodels.formula.api` package.  It draws on material from Weeks 3 and 4, lectured by Richard Arnold.\n",
    "\n",
    "When answering questions show any relevant Python code along with your answers.\n",
    "\n",
    "Also when asked for numerical answers, make sure you quote these explicitly.  e.g. if the answer to a question is just one value from a table, make sure you explicitly refer to that value so that it is clear that you know which is the relevant entry in the table."
   ]
  },
  {
   "cell_type": "code",
   "execution_count": 2,
   "id": "a546300b",
   "metadata": {},
   "outputs": [],
   "source": [
    "import numpy as np\n",
    "import pandas as pd\n",
    "import scipy.stats as stats\n",
    "import statsmodels.formula.api as smf\n",
    "import matplotlib.pyplot as plt\n",
    "%matplotlib inline"
   ]
  },
  {
   "cell_type": "markdown",
   "id": "b420300d",
   "metadata": {},
   "source": [
    "# Privacy, Security, Confidentiality and Ethics"
   ]
  },
  {
   "cell_type": "markdown",
   "id": "7e0a782f",
   "metadata": {},
   "source": [
    "1\\. The Integrated Data Infrastructure (IDI) created by Statistics New Zealand links data from a variety of different sources, and is used as a policy research tool.\n",
    "\n",
    "   (a) In a paragraph of writing (150-200 words), discuss the Privacy, Security and Confidentiality issues that arise in the creation and operation of the IDI, and how these issues are handled.\n",
    "   \n",
    "There are many privacy, security and confidentiality issues that arise in the creation and operation of the IDI because it contains a lot of sensitive and personal information. \n",
    "Privacy issues: Since the IDI links data sources together, it could unintentionally identify individuals, violating their right to privacy. If enough attributes/variables are combined, it may be possible to identify specific individuals even if unique identifiers are removed. This is a risk to privacy as identity theft could occur, where if someone knows enough about you, they could impersonate you. To handle this privacy issue, data are de-identified in the IDI before it's released to ensure anonymity is maintained and identities cannot be easily obtained from the data. Another privacy issue is that individuals may not know about their data being used in the IDI. Whenever individuals provide data, they are giving up their privacy and consenting to a specific use.  This is handled as the deputy Government Statistician Dr Craig Jones outlines that they use the IDI to inform policy and to evaluate if policies are working or not. Access to the IDI is carefully managed.\n",
    "\n",
    "Security issues: Since the IDI holds lots of sensitive information about individuals, it has the potential to be highly targeted for cyberattacks and misuse of data. These breaches are an issue because peoples financial information could be exposed. This is handled as Stats NZ tightly holds onto data and rarely shares it with other organisations and outside parties. Anyone using the IDI must demonstrate how their research will benefit the communities being researched, also controlling who gets access to data. External researchers are vetted, and have to sign a lifelong declaration of secrecy, promising not to reveal any private information they may see. Researchers are only given access to data that is relevant to their research and it can only be accessed from a Data Lab with no internet access. The IDI is on a separate server.\n",
    "\n",
    "Confidentiality issues: The confidentiality issues that arise when creating the IDI is that datasets are linked by demographic information such as name, sex, date of birth, and address. Anonymity is maintained by encrypting data in the IDI that can identify people. However, there are insider threats, where people authorised to access the IDI could misuse the data or leak it intentionally. This is handled as the Ngā Tikanga Paihere framework was developed by Stats NZ, which is meant to inform users on ethical and culturally appropriate data usage.\n",
    "\n",
    "   (b) In a few sentences give your view of the risks associated with the IDI, specifically referring to the Social Licence.\n",
    "   \n",
    "The social license has the potential to be violated due to the risks associated with the IDI. Risks include privacy breaches, the potential misuse of data, and unauthorised access to data. Public trust has the potential to be lost if these risks aren't considered and attended to by having transparency around data usage, intense security measures, and clarity on ethical and legal use. Since the IDI contains sensitive and personal information, updating and adhering to the social license for the IDI is important. The social license enables respect toward peoples rights to privacy and protects their data, yet also allows for important research to be conducted and checks if policies are working or not.\n",
    "\n",
    "[8 Marks (6+2)]"
   ]
  },
  {
   "cell_type": "markdown",
   "id": "96829b2e",
   "metadata": {},
   "source": [
    "2\\. Consider the following table of counts of age and political affiliation (left-right) in a small community (the data are in RiskyTable.csv)"
   ]
  },
  {
   "cell_type": "code",
   "execution_count": 3,
   "id": "866c2ab7",
   "metadata": {
    "scrolled": false
   },
   "outputs": [
    {
     "data": {
      "text/html": [
       "<div>\n",
       "<style scoped>\n",
       "    .dataframe tbody tr th:only-of-type {\n",
       "        vertical-align: middle;\n",
       "    }\n",
       "\n",
       "    .dataframe tbody tr th {\n",
       "        vertical-align: top;\n",
       "    }\n",
       "\n",
       "    .dataframe thead th {\n",
       "        text-align: right;\n",
       "    }\n",
       "</style>\n",
       "<table border=\"1\" class=\"dataframe\">\n",
       "  <thead>\n",
       "    <tr style=\"text-align: right;\">\n",
       "      <th></th>\n",
       "      <th>Age Group</th>\n",
       "      <th>Left learning</th>\n",
       "      <th>Centre-left</th>\n",
       "      <th>Centre-right</th>\n",
       "      <th>Right leaning</th>\n",
       "      <th>Total</th>\n",
       "    </tr>\n",
       "  </thead>\n",
       "  <tbody>\n",
       "    <tr>\n",
       "      <th>0</th>\n",
       "      <td>15-24</td>\n",
       "      <td>1</td>\n",
       "      <td>0</td>\n",
       "      <td>0</td>\n",
       "      <td>1</td>\n",
       "      <td>2</td>\n",
       "    </tr>\n",
       "    <tr>\n",
       "      <th>1</th>\n",
       "      <td>25-34</td>\n",
       "      <td>2</td>\n",
       "      <td>0</td>\n",
       "      <td>0</td>\n",
       "      <td>0</td>\n",
       "      <td>2</td>\n",
       "    </tr>\n",
       "    <tr>\n",
       "      <th>2</th>\n",
       "      <td>35-44</td>\n",
       "      <td>1</td>\n",
       "      <td>3</td>\n",
       "      <td>4</td>\n",
       "      <td>3</td>\n",
       "      <td>11</td>\n",
       "    </tr>\n",
       "    <tr>\n",
       "      <th>3</th>\n",
       "      <td>45-54</td>\n",
       "      <td>0</td>\n",
       "      <td>4</td>\n",
       "      <td>3</td>\n",
       "      <td>1</td>\n",
       "      <td>8</td>\n",
       "    </tr>\n",
       "    <tr>\n",
       "      <th>4</th>\n",
       "      <td>55-64</td>\n",
       "      <td>1</td>\n",
       "      <td>0</td>\n",
       "      <td>3</td>\n",
       "      <td>2</td>\n",
       "      <td>6</td>\n",
       "    </tr>\n",
       "    <tr>\n",
       "      <th>5</th>\n",
       "      <td>65+</td>\n",
       "      <td>2</td>\n",
       "      <td>7</td>\n",
       "      <td>3</td>\n",
       "      <td>2</td>\n",
       "      <td>14</td>\n",
       "    </tr>\n",
       "    <tr>\n",
       "      <th>6</th>\n",
       "      <td>Total</td>\n",
       "      <td>7</td>\n",
       "      <td>14</td>\n",
       "      <td>13</td>\n",
       "      <td>9</td>\n",
       "      <td>43</td>\n",
       "    </tr>\n",
       "  </tbody>\n",
       "</table>\n",
       "</div>"
      ],
      "text/plain": [
       "  Age Group  Left learning  Centre-left  Centre-right  Right leaning  Total\n",
       "0     15-24              1            0             0              1      2\n",
       "1     25-34              2            0             0              0      2\n",
       "2     35-44              1            3             4              3     11\n",
       "3     45-54              0            4             3              1      8\n",
       "4     55-64              1            0             3              2      6\n",
       "5       65+              2            7             3              2     14\n",
       "6     Total              7           14            13              9     43"
      ]
     },
     "execution_count": 3,
     "metadata": {},
     "output_type": "execute_result"
    }
   ],
   "source": [
    "rtab = pd.read_csv(\"RiskyTable.csv\")\n",
    "rtab"
   ]
  },
  {
   "cell_type": "markdown",
   "id": "b92fb618",
   "metadata": {},
   "source": [
    "(a) Assuming that people within this community either know or can easily guess each other's ages, but don't know each other's political beliefs, give a brief discussion of the confidentiality risks posed by this table.  Identify the riskiest cells, contrasting the risks for informed and uninformed adversaries/intruders.  [2 Marks]\n",
    "\n",
    "Aggregation has been done for age group, yet since there are only a total of 43 people in this community it makes it quite easy for individuals political beliefs to be identified based on their age. The riskiest cells are the Age Group 15-24 row as it represents a disclosure risk. An informed intruder may be the person who is the person represented in the 15-24 age group and has left leaning political beliefs. They then now know that the other person in the same age group has right leaning political beliefs. In constrast, an uninformed intruder would not know the information that the informed intruder has. An uninformed intruder would be someone from within the company contracting someone else outside of the company to attack them to tell the person in the company what they find. An uninformed intruder wouldn't know the age of people in the community specifically but could guess it.  Therefore someone else in the community from a different age group may be able to guess which person in the 15-24 age group has right leaning political beliefs.\n",
    "\n",
    "(b) How could the table be made less risky if it is to be released? [3 Marks]\n",
    "\n",
    "Doing a random round can help the table be made less risky if it is to be released. Cell suppression could also be done (blanking out cells). The table below is less risky than it was before, however it is still easy to identify those in the 25-34 age group with left leaning political beliefs. Unfortunately in this case, the cells don't add to margins. "
   ]
  },
  {
   "cell_type": "code",
   "execution_count": 4,
   "id": "9cc39bc1",
   "metadata": {},
   "outputs": [
    {
     "data": {
      "text/html": [
       "<div>\n",
       "<style scoped>\n",
       "    .dataframe tbody tr th:only-of-type {\n",
       "        vertical-align: middle;\n",
       "    }\n",
       "\n",
       "    .dataframe tbody tr th {\n",
       "        vertical-align: top;\n",
       "    }\n",
       "\n",
       "    .dataframe thead th {\n",
       "        text-align: right;\n",
       "    }\n",
       "</style>\n",
       "<table border=\"1\" class=\"dataframe\">\n",
       "  <thead>\n",
       "    <tr style=\"text-align: right;\">\n",
       "      <th></th>\n",
       "      <th>Age Group</th>\n",
       "      <th>Left leaning</th>\n",
       "      <th>Centre-left</th>\n",
       "      <th>Centre-right</th>\n",
       "      <th>Right leaning</th>\n",
       "      <th>Total</th>\n",
       "    </tr>\n",
       "  </thead>\n",
       "  <tbody>\n",
       "    <tr>\n",
       "      <th>0</th>\n",
       "      <td>15-24</td>\n",
       "      <td>0</td>\n",
       "      <td>0</td>\n",
       "      <td>0</td>\n",
       "      <td>0</td>\n",
       "      <td>3</td>\n",
       "    </tr>\n",
       "    <tr>\n",
       "      <th>1</th>\n",
       "      <td>25-34</td>\n",
       "      <td>3</td>\n",
       "      <td>0</td>\n",
       "      <td>0</td>\n",
       "      <td>0</td>\n",
       "      <td>3</td>\n",
       "    </tr>\n",
       "    <tr>\n",
       "      <th>2</th>\n",
       "      <td>35-44</td>\n",
       "      <td>0</td>\n",
       "      <td>3</td>\n",
       "      <td>6</td>\n",
       "      <td>3</td>\n",
       "      <td>12</td>\n",
       "    </tr>\n",
       "    <tr>\n",
       "      <th>3</th>\n",
       "      <td>45-54</td>\n",
       "      <td>0</td>\n",
       "      <td>6</td>\n",
       "      <td>3</td>\n",
       "      <td>0</td>\n",
       "      <td>9</td>\n",
       "    </tr>\n",
       "    <tr>\n",
       "      <th>4</th>\n",
       "      <td>55-64</td>\n",
       "      <td>0</td>\n",
       "      <td>0</td>\n",
       "      <td>3</td>\n",
       "      <td>3</td>\n",
       "      <td>6</td>\n",
       "    </tr>\n",
       "    <tr>\n",
       "      <th>5</th>\n",
       "      <td>65+</td>\n",
       "      <td>3</td>\n",
       "      <td>6</td>\n",
       "      <td>3</td>\n",
       "      <td>3</td>\n",
       "      <td>15</td>\n",
       "    </tr>\n",
       "    <tr>\n",
       "      <th>6</th>\n",
       "      <td>Total</td>\n",
       "      <td>6</td>\n",
       "      <td>15</td>\n",
       "      <td>15</td>\n",
       "      <td>9</td>\n",
       "      <td>45</td>\n",
       "    </tr>\n",
       "  </tbody>\n",
       "</table>\n",
       "</div>"
      ],
      "text/plain": [
       "  Age Group  Left leaning  Centre-left  Centre-right  Right leaning  Total\n",
       "0     15-24             0            0             0              0      3\n",
       "1     25-34             3            0             0              0      3\n",
       "2     35-44             0            3             6              3     12\n",
       "3     45-54             0            6             3              0      9\n",
       "4     55-64             0            0             3              3      6\n",
       "5       65+             3            6             3              3     15\n",
       "6     Total             6           15            15              9     45"
      ]
     },
     "execution_count": 4,
     "metadata": {},
     "output_type": "execute_result"
    }
   ],
   "source": [
    "rtab = pd.DataFrame({'Age Group':['15-24', '25-34', '35-44', '45-54','55-64','65+','Total'],\n",
    "                     'Left leaning':[0,3,0,0,0,3,6],\n",
    "                     'Centre-left':[0,0,3,6,0,6,15],\n",
    "                     'Centre-right':[0,0,6,3,3,3,15],\n",
    "                     'Right leaning':[0,0,3,0,3,3,9],\n",
    "                     'Total':[3,3,12,9,6,15,45]})\n",
    "rtab"
   ]
  },
  {
   "cell_type": "code",
   "execution_count": 5,
   "id": "80312b19",
   "metadata": {},
   "outputs": [
    {
     "data": {
      "text/html": [
       "<div>\n",
       "<style scoped>\n",
       "    .dataframe tbody tr th:only-of-type {\n",
       "        vertical-align: middle;\n",
       "    }\n",
       "\n",
       "    .dataframe tbody tr th {\n",
       "        vertical-align: top;\n",
       "    }\n",
       "\n",
       "    .dataframe thead th {\n",
       "        text-align: right;\n",
       "    }\n",
       "</style>\n",
       "<table border=\"1\" class=\"dataframe\">\n",
       "  <thead>\n",
       "    <tr style=\"text-align: right;\">\n",
       "      <th></th>\n",
       "      <th>Age Group</th>\n",
       "      <th>Left leaning</th>\n",
       "      <th>Centre-left</th>\n",
       "      <th>Centre-right</th>\n",
       "      <th>Right leaning</th>\n",
       "      <th>Total</th>\n",
       "    </tr>\n",
       "  </thead>\n",
       "  <tbody>\n",
       "    <tr>\n",
       "      <th>0</th>\n",
       "      <td>15-24</td>\n",
       "      <td></td>\n",
       "      <td>0</td>\n",
       "      <td></td>\n",
       "      <td></td>\n",
       "      <td>2</td>\n",
       "    </tr>\n",
       "    <tr>\n",
       "      <th>1</th>\n",
       "      <td>25-34</td>\n",
       "      <td></td>\n",
       "      <td>0</td>\n",
       "      <td></td>\n",
       "      <td></td>\n",
       "      <td>2</td>\n",
       "    </tr>\n",
       "    <tr>\n",
       "      <th>2</th>\n",
       "      <td>35-44</td>\n",
       "      <td>1</td>\n",
       "      <td>3</td>\n",
       "      <td>4</td>\n",
       "      <td>3</td>\n",
       "      <td>11</td>\n",
       "    </tr>\n",
       "    <tr>\n",
       "      <th>3</th>\n",
       "      <td>45-54</td>\n",
       "      <td>0</td>\n",
       "      <td>4</td>\n",
       "      <td>3</td>\n",
       "      <td>1</td>\n",
       "      <td>8</td>\n",
       "    </tr>\n",
       "    <tr>\n",
       "      <th>4</th>\n",
       "      <td>55-64</td>\n",
       "      <td>1</td>\n",
       "      <td>0</td>\n",
       "      <td>3</td>\n",
       "      <td>2</td>\n",
       "      <td>6</td>\n",
       "    </tr>\n",
       "    <tr>\n",
       "      <th>5</th>\n",
       "      <td>65+</td>\n",
       "      <td>2</td>\n",
       "      <td>7</td>\n",
       "      <td>3</td>\n",
       "      <td>2</td>\n",
       "      <td>14</td>\n",
       "    </tr>\n",
       "    <tr>\n",
       "      <th>6</th>\n",
       "      <td>Total</td>\n",
       "      <td>7</td>\n",
       "      <td>14</td>\n",
       "      <td>13</td>\n",
       "      <td>9</td>\n",
       "      <td>43</td>\n",
       "    </tr>\n",
       "  </tbody>\n",
       "</table>\n",
       "</div>"
      ],
      "text/plain": [
       "  Age Group Left leaning  Centre-left Centre-right Right leaning  Total\n",
       "0     15-24                         0                                 2\n",
       "1     25-34                         0                                 2\n",
       "2     35-44            1            3            4             3     11\n",
       "3     45-54            0            4            3             1      8\n",
       "4     55-64            1            0            3             2      6\n",
       "5       65+            2            7            3             2     14\n",
       "6     Total            7           14           13             9     43"
      ]
     },
     "execution_count": 5,
     "metadata": {},
     "output_type": "execute_result"
    }
   ],
   "source": [
    "# Cell suppression \n",
    "# This way ensures no individuals political beliefs are fully exposed. \n",
    "rtab = pd.DataFrame({'Age Group':['15-24', '25-34', '35-44', '45-54','55-64','65+','Total'],\n",
    "                     'Left leaning':[1,2,1,0,1,2,7],\n",
    "                     'Centre-left':[0,0,3,4,0,7,14],\n",
    "                     'Centre-right':[0,0,4,3,3,3,13],\n",
    "                     'Right leaning':[1,0,3,1,2,2,9],\n",
    "                     'Total':[2,2,11,8,6,14,43]})\n",
    "\n",
    "rtab.loc[rtab['Age Group'].isin(['15-24', '25-34']), 'Left leaning'] = ''\n",
    "rtab.loc[rtab['Age Group'].isin(['15-24', '25-34']), 'Right leaning'] = ''\n",
    "rtab.loc[rtab['Age Group'].isin(['15-24', '25-34']), 'Centre-right'] = ''\n",
    "\n",
    "rtab"
   ]
  },
  {
   "cell_type": "markdown",
   "id": "8774cc96",
   "metadata": {},
   "source": [
    "# Probability distributions"
   ]
  },
  {
   "cell_type": "markdown",
   "id": "d9b65206",
   "metadata": {},
   "source": [
    "Note: \n",
    "\n",
    "  * A **probability mass function** $P(X=x)$ is the probability that a discrete or categorical random variable $X$ takes a particular value $x$\n",
    "  * A **cumulative distribution function** $P(X\\leq x)$ is the probability that a numerical random variable $X$ (which can be discrete or continuous) takes a value less than or equal to a particular value $x$.\n"
   ]
  },
  {
   "cell_type": "markdown",
   "id": "78cb0c7a",
   "metadata": {},
   "source": [
    "3\\. A Poisson random variable is often used to model counts of customer arrivals in a shop.  Assume that the number of customers to arrive in any given hour follows a Poisson(4) distribution.  Compute and plot the probabililty distribution of a Poisson(4) distribution.  (Plot the distribution over the range 0 to 15.)  [3 Marks]"
   ]
  },
  {
   "cell_type": "code",
   "execution_count": 6,
   "id": "d7c9e9d3",
   "metadata": {},
   "outputs": [
    {
     "name": "stdout",
     "output_type": "stream",
     "text": [
      "[1.83156389e-02 7.32625556e-02 1.46525111e-01 1.95366815e-01\n",
      " 1.95366815e-01 1.56293452e-01 1.04195635e-01 5.95403626e-02\n",
      " 2.97701813e-02 1.32311917e-02 5.29247668e-03 1.92453697e-03\n",
      " 6.41512324e-04 1.97388408e-04 5.63966879e-05 1.50391168e-05]\n"
     ]
    },
    {
     "data": {
      "image/png": "[encoded data removed]",
      "text/plain": [
       "<Figure size 432x288 with 1 Axes>"
      ]
     },
     "metadata": {
      "needs_background": "light"
     },
     "output_type": "display_data"
    }
   ],
   "source": [
    "# Probability of X ~ Poisson(4)\n",
    "from scipy.stats import poisson\n",
    "\n",
    "my_lambda = 4\n",
    "plot = np.arange(0,16)\n",
    "\n",
    "# Compute the probability \n",
    "prob = poisson.pmf(plot, my_lambda)\n",
    "print(prob)\n",
    "\n",
    "# Plot the probability distribution for X ~ Poisson(4)\n",
    "plt.bar(plot, prob, align='center')\n",
    "plt.xlabel('Counts of Customers')\n",
    "plt.ylabel('Probability')\n",
    "plt.title('Poisson(4) Distribution')\n",
    "plt.xticks(plot)\n",
    "plt.show()"
   ]
  },
  {
   "cell_type": "markdown",
   "id": "54161409",
   "metadata": {},
   "source": [
    "4\\.  What is the **support** or **sample space** of the Poisson(4) distribution?  [1 Mark]\n",
    "\n",
    "The support is {0, 1, 2, 3, ...}, meaning that a Poisson(4) distribution models the probability of customer arrivals in a shop occurring 0, 1, 2, 3... times within any given hour, where on average 4 customers enter the store. "
   ]
  },
  {
   "cell_type": "markdown",
   "id": "c3f9c049",
   "metadata": {},
   "source": [
    "5\\. Use the vector of probabilities to calculate the expected (mean) value of $X$. i.e. on average how many customers arrive per hour in this shop?  [1 Mark]"
   ]
  },
  {
   "cell_type": "code",
   "execution_count": 7,
   "id": "987d3148",
   "metadata": {},
   "outputs": [
    {
     "name": "stdout",
     "output_type": "stream",
     "text": [
      "Expected value (mean): 3.9999202730900674\n"
     ]
    }
   ],
   "source": [
    "expected_value = np.sum(plot * prob) # multiplies each value in the range of 0-15 with its corresponding prob\n",
    "print(\"Expected value (mean):\", expected_value) #np.sum adds together the values\n",
    "\n",
    "# On average 4 customers arrive per hour in this shop "
   ]
  },
  {
   "cell_type": "markdown",
   "id": "fcb46146",
   "metadata": {},
   "source": [
    "6\\. What is the probability that $X$ is 3, i.e. that exactly 3 customers arrive in the shop in a given hour?  [1 Mark]"
   ]
  },
  {
   "cell_type": "code",
   "execution_count": 8,
   "id": "72c9827e",
   "metadata": {},
   "outputs": [
    {
     "name": "stdout",
     "output_type": "stream",
     "text": [
      "P(X=3) = 0.19536681481316454\n"
     ]
    }
   ],
   "source": [
    "# P(X=3) if X~Poisson(4)\n",
    "\n",
    "my_lambda = 4\n",
    "k = 3\n",
    "prob = poisson.pmf(k, my_lambda)\n",
    "print(\"P(X=\",k,\") = \", prob,sep=\"\")"
   ]
  },
  {
   "cell_type": "markdown",
   "id": "a996bb1f",
   "metadata": {},
   "source": [
    "7\\. What is the probability that $X$ is less than or equal to 3? [1 Mark]"
   ]
  },
  {
   "cell_type": "code",
   "execution_count": 9,
   "id": "51a451ec",
   "metadata": {},
   "outputs": [
    {
     "name": "stdout",
     "output_type": "stream",
     "text": [
      "P(X<=3) = 0.43347012036670896\n"
     ]
    }
   ],
   "source": [
    "# P(X<=3) if X~Poisson(4)\n",
    "\n",
    "cumulative_prob = poisson.cdf(k, my_lambda)\n",
    "print(\"P(X<=\",k,\") = \", cumulative_prob,sep=\"\")"
   ]
  },
  {
   "cell_type": "markdown",
   "id": "f696e932",
   "metadata": {},
   "source": [
    "8\\. What is the probability that $X$ is more than 3 but less than 6?  [1 Mark]"
   ]
  },
  {
   "cell_type": "code",
   "execution_count": 10,
   "id": "57a9dea8",
   "metadata": {},
   "outputs": [
    {
     "name": "stdout",
     "output_type": "stream",
     "text": [
      "P(3<X<6) = P(X<6) - P(X<3) = 0.3516602666636962\n"
     ]
    }
   ],
   "source": [
    "# P(3 < X < 6) if X~Poisson(4)\n",
    "\n",
    "my_lambda = 4\n",
    "k1 = 3 # 4 is more than 3\n",
    "k2 = 6 # 5 is less than 6\n",
    "\n",
    "# Calculate the cumulative probabilities \n",
    "prob = poisson.cdf(k2 - 1, my_lambda) - poisson.cdf(k1, my_lambda) # I did k2 - 1 as less than 6 is 5 \n",
    "\n",
    "print(\"P(\", k1, \"<X<\", k2,\") = P(X<\", k2, \\\n",
    "      \") - P(X<\", k1,\") = \", prob, sep=\"\")"
   ]
  },
  {
   "cell_type": "markdown",
   "id": "19555285",
   "metadata": {},
   "source": [
    "## Probabilities from Data\n",
    "\n",
    "Read the Spotify_Song_Attributes.csv data set of characteristics of 10080 songs on the Spotify music streaming platform, which you can download from Canvas.\n",
    "\n",
    "You will also need to consult the accompanying information file Spotify-Information.csv in order to interpret the content of the data set.\n",
    "\n",
    "Sourced from: B. Senopati, \"Harmonizing the Hits: Analyzing the Spotify Song Attributes Dataset\" https://www.kaggle.com/datasets/byomokeshsenapati/spotify-song-attributes"
   ]
  },
  {
   "cell_type": "code",
   "execution_count": 11,
   "id": "2f025694",
   "metadata": {},
   "outputs": [],
   "source": [
    "df = pd.read_csv(\"Spotify_Song_Attributes.csv\")\n",
    "information = pd.read_csv(\"Spotify-Information.csv\")"
   ]
  },
  {
   "cell_type": "markdown",
   "id": "3705f291",
   "metadata": {},
   "source": [
    "9\\. Treating this data set as a random sample of all songs on the platform, estimate the proportion of Spotify songs that have a time signature of 4.  [1 Mark]"
   ]
  },
  {
   "cell_type": "code",
   "execution_count": 12,
   "id": "2afdd4c4",
   "metadata": {},
   "outputs": [
    {
     "name": "stdout",
     "output_type": "stream",
     "text": [
      "The probability that a randomly selected song has a time siqnature of 4 is:\n",
      "P(X=4)= 0.905771\n"
     ]
    },
    {
     "data": {
      "text/html": [
       "<div>\n",
       "<style scoped>\n",
       "    .dataframe tbody tr th:only-of-type {\n",
       "        vertical-align: middle;\n",
       "    }\n",
       "\n",
       "    .dataframe tbody tr th {\n",
       "        vertical-align: top;\n",
       "    }\n",
       "\n",
       "    .dataframe thead th {\n",
       "        text-align: right;\n",
       "    }\n",
       "</style>\n",
       "<table border=\"1\" class=\"dataframe\">\n",
       "  <thead>\n",
       "    <tr style=\"text-align: right;\">\n",
       "      <th></th>\n",
       "      <th>counts</th>\n",
       "      <th>probs</th>\n",
       "    </tr>\n",
       "  </thead>\n",
       "  <tbody>\n",
       "    <tr>\n",
       "      <th>0.0</th>\n",
       "      <td>4</td>\n",
       "      <td>0.000420</td>\n",
       "    </tr>\n",
       "    <tr>\n",
       "      <th>1.0</th>\n",
       "      <td>66</td>\n",
       "      <td>0.006925</td>\n",
       "    </tr>\n",
       "    <tr>\n",
       "      <th>3.0</th>\n",
       "      <td>700</td>\n",
       "      <td>0.073452</td>\n",
       "    </tr>\n",
       "    <tr>\n",
       "      <th>4.0</th>\n",
       "      <td>8632</td>\n",
       "      <td>0.905771</td>\n",
       "    </tr>\n",
       "    <tr>\n",
       "      <th>5.0</th>\n",
       "      <td>128</td>\n",
       "      <td>0.013431</td>\n",
       "    </tr>\n",
       "  </tbody>\n",
       "</table>\n",
       "</div>"
      ],
      "text/plain": [
       "     counts     probs\n",
       "0.0       4  0.000420\n",
       "1.0      66  0.006925\n",
       "3.0     700  0.073452\n",
       "4.0    8632  0.905771\n",
       "5.0     128  0.013431"
      ]
     },
     "execution_count": 12,
     "metadata": {},
     "output_type": "execute_result"
    }
   ],
   "source": [
    "spot = df['time_signature'].value_counts().sort_index()\n",
    "time_sort = pd.DataFrame({'counts':spot,'probs':spot/sum(spot)})\n",
    "number = 0.905771\n",
    "print(\"The probability that a randomly selected song has a time siqnature of 4 is:\")\n",
    "print(\"P(X=4)=\",number)\n",
    "time_sort"
   ]
  },
  {
   "cell_type": "markdown",
   "id": "b5d19442",
   "metadata": {},
   "source": [
    "10\\. What is the probability that a song is both in a minor key (minor mode) and has a time signature of 3? [1 Mark]"
   ]
  },
  {
   "cell_type": "code",
   "execution_count": 13,
   "id": "d62ba0c9",
   "metadata": {},
   "outputs": [
    {
     "name": "stdout",
     "output_type": "stream",
     "text": [
      "The probability that a randomly chosen song is in a minor key and has a time signature of 3 is: \n",
      " Pr(M ='0',T = '3') = 0.024554\n"
     ]
    },
    {
     "data": {
      "text/html": [
       "<div>\n",
       "<style scoped>\n",
       "    .dataframe tbody tr th:only-of-type {\n",
       "        vertical-align: middle;\n",
       "    }\n",
       "\n",
       "    .dataframe tbody tr th {\n",
       "        vertical-align: top;\n",
       "    }\n",
       "\n",
       "    .dataframe thead th {\n",
       "        text-align: right;\n",
       "    }\n",
       "</style>\n",
       "<table border=\"1\" class=\"dataframe\">\n",
       "  <thead>\n",
       "    <tr style=\"text-align: right;\">\n",
       "      <th>time_signature</th>\n",
       "      <th>0.0</th>\n",
       "      <th>1.0</th>\n",
       "      <th>3.0</th>\n",
       "      <th>4.0</th>\n",
       "      <th>5.0</th>\n",
       "      <th>Total</th>\n",
       "    </tr>\n",
       "    <tr>\n",
       "      <th>mode</th>\n",
       "      <th></th>\n",
       "      <th></th>\n",
       "      <th></th>\n",
       "      <th></th>\n",
       "      <th></th>\n",
       "      <th></th>\n",
       "    </tr>\n",
       "  </thead>\n",
       "  <tbody>\n",
       "    <tr>\n",
       "      <th>0.0</th>\n",
       "      <td>0.00021</td>\n",
       "      <td>0.002308</td>\n",
       "      <td>0.024554</td>\n",
       "      <td>0.354250</td>\n",
       "      <td>0.006296</td>\n",
       "      <td>0.387618</td>\n",
       "    </tr>\n",
       "    <tr>\n",
       "      <th>1.0</th>\n",
       "      <td>0.00021</td>\n",
       "      <td>0.004617</td>\n",
       "      <td>0.048898</td>\n",
       "      <td>0.551522</td>\n",
       "      <td>0.007135</td>\n",
       "      <td>0.612382</td>\n",
       "    </tr>\n",
       "    <tr>\n",
       "      <th>Total</th>\n",
       "      <td>0.00042</td>\n",
       "      <td>0.006925</td>\n",
       "      <td>0.073452</td>\n",
       "      <td>0.905771</td>\n",
       "      <td>0.013431</td>\n",
       "      <td>1.000000</td>\n",
       "    </tr>\n",
       "  </tbody>\n",
       "</table>\n",
       "</div>"
      ],
      "text/plain": [
       "time_signature      0.0       1.0       3.0       4.0       5.0     Total\n",
       "mode                                                                     \n",
       "0.0             0.00021  0.002308  0.024554  0.354250  0.006296  0.387618\n",
       "1.0             0.00021  0.004617  0.048898  0.551522  0.007135  0.612382\n",
       "Total           0.00042  0.006925  0.073452  0.905771  0.013431  1.000000"
      ]
     },
     "execution_count": 13,
     "metadata": {},
     "output_type": "execute_result"
    }
   ],
   "source": [
    "# Joint probability = P(events A and B both occur at the same time)\n",
    "# A = the event that a song is in a minor key (M)\n",
    "# B = the event that a song has a time signature of 3 (T)\n",
    "# Mode, 1 = major, 0 = minor\n",
    "\n",
    "# Joint probabilities P(M, T) by minor key and time signature\n",
    "prob = pd.crosstab(df['mode'], df['time_signature'],\n",
    "           margins=True, margins_name='Total',normalize = 'all')\n",
    "\n",
    "print(\"The probability that a randomly chosen song is in a minor key and has a time signature of 3 is: \\\n",
    "\\n Pr(M ='0',T = '3') = 0.024554\")\n",
    "\n",
    "prob "
   ]
  },
  {
   "cell_type": "markdown",
   "id": "1d810d77",
   "metadata": {},
   "source": [
    "11\\. What is the probability that a song is in a minor key given that it has a time signature of 3? [1 Mark]"
   ]
  },
  {
   "cell_type": "code",
   "execution_count": 14,
   "id": "54aa8f05",
   "metadata": {},
   "outputs": [
    {
     "name": "stdout",
     "output_type": "stream",
     "text": [
      "Pr(T = '3'| M = '0') = 0.063346\n"
     ]
    },
    {
     "data": {
      "text/html": [
       "<div>\n",
       "<style scoped>\n",
       "    .dataframe tbody tr th:only-of-type {\n",
       "        vertical-align: middle;\n",
       "    }\n",
       "\n",
       "    .dataframe tbody tr th {\n",
       "        vertical-align: top;\n",
       "    }\n",
       "\n",
       "    .dataframe thead th {\n",
       "        text-align: right;\n",
       "    }\n",
       "</style>\n",
       "<table border=\"1\" class=\"dataframe\">\n",
       "  <thead>\n",
       "    <tr style=\"text-align: right;\">\n",
       "      <th>time_signature</th>\n",
       "      <th>0.0</th>\n",
       "      <th>1.0</th>\n",
       "      <th>3.0</th>\n",
       "      <th>4.0</th>\n",
       "      <th>5.0</th>\n",
       "    </tr>\n",
       "    <tr>\n",
       "      <th>mode</th>\n",
       "      <th></th>\n",
       "      <th></th>\n",
       "      <th></th>\n",
       "      <th></th>\n",
       "      <th></th>\n",
       "    </tr>\n",
       "  </thead>\n",
       "  <tbody>\n",
       "    <tr>\n",
       "      <th>0.0</th>\n",
       "      <td>0.000541</td>\n",
       "      <td>0.005956</td>\n",
       "      <td>0.063346</td>\n",
       "      <td>0.913914</td>\n",
       "      <td>0.016243</td>\n",
       "    </tr>\n",
       "    <tr>\n",
       "      <th>1.0</th>\n",
       "      <td>0.000343</td>\n",
       "      <td>0.007539</td>\n",
       "      <td>0.079849</td>\n",
       "      <td>0.900617</td>\n",
       "      <td>0.011652</td>\n",
       "    </tr>\n",
       "    <tr>\n",
       "      <th>Total</th>\n",
       "      <td>0.000420</td>\n",
       "      <td>0.006925</td>\n",
       "      <td>0.073452</td>\n",
       "      <td>0.905771</td>\n",
       "      <td>0.013431</td>\n",
       "    </tr>\n",
       "  </tbody>\n",
       "</table>\n",
       "</div>"
      ],
      "text/plain": [
       "time_signature       0.0       1.0       3.0       4.0       5.0\n",
       "mode                                                            \n",
       "0.0             0.000541  0.005956  0.063346  0.913914  0.016243\n",
       "1.0             0.000343  0.007539  0.079849  0.900617  0.011652\n",
       "Total           0.000420  0.006925  0.073452  0.905771  0.013431"
      ]
     },
     "execution_count": 14,
     "metadata": {},
     "output_type": "execute_result"
    }
   ],
   "source": [
    "# A = the event that a song is in a minor key (M)\n",
    "# B = the event that a song has a time signature of 3 (T)\n",
    "\n",
    "# The conditional probability P(M|T) = P(event A occurs given that event B has occured)\n",
    "prob = pd.crosstab(df['mode'], df['time_signature'],\n",
    "           margins=True, margins_name='Total',normalize = 'index')\n",
    "\n",
    "# The probability that a randomly chosen minor key song has a time signature of 3\n",
    "print(\"Pr(T = '3'| M = '0') = 0.063346\")\n",
    "prob"
   ]
  },
  {
   "cell_type": "markdown",
   "id": "bc996c34",
   "metadata": {},
   "source": [
    "12\\. What is the probability that a song has a time signature of 3 given that it is in a minor key? [1 Mark]"
   ]
  },
  {
   "cell_type": "code",
   "execution_count": 15,
   "id": "6efc2cb3",
   "metadata": {},
   "outputs": [
    {
     "name": "stdout",
     "output_type": "stream",
     "text": [
      "Pr(M = '0'| T = '3') = 0.334286\n"
     ]
    },
    {
     "data": {
      "text/html": [
       "<div>\n",
       "<style scoped>\n",
       "    .dataframe tbody tr th:only-of-type {\n",
       "        vertical-align: middle;\n",
       "    }\n",
       "\n",
       "    .dataframe tbody tr th {\n",
       "        vertical-align: top;\n",
       "    }\n",
       "\n",
       "    .dataframe thead th {\n",
       "        text-align: right;\n",
       "    }\n",
       "</style>\n",
       "<table border=\"1\" class=\"dataframe\">\n",
       "  <thead>\n",
       "    <tr style=\"text-align: right;\">\n",
       "      <th>time_signature</th>\n",
       "      <th>0.0</th>\n",
       "      <th>1.0</th>\n",
       "      <th>3.0</th>\n",
       "      <th>4.0</th>\n",
       "      <th>5.0</th>\n",
       "      <th>Total</th>\n",
       "    </tr>\n",
       "    <tr>\n",
       "      <th>mode</th>\n",
       "      <th></th>\n",
       "      <th></th>\n",
       "      <th></th>\n",
       "      <th></th>\n",
       "      <th></th>\n",
       "      <th></th>\n",
       "    </tr>\n",
       "  </thead>\n",
       "  <tbody>\n",
       "    <tr>\n",
       "      <th>0.0</th>\n",
       "      <td>0.5</td>\n",
       "      <td>0.333333</td>\n",
       "      <td>0.334286</td>\n",
       "      <td>0.391103</td>\n",
       "      <td>0.46875</td>\n",
       "      <td>0.387618</td>\n",
       "    </tr>\n",
       "    <tr>\n",
       "      <th>1.0</th>\n",
       "      <td>0.5</td>\n",
       "      <td>0.666667</td>\n",
       "      <td>0.665714</td>\n",
       "      <td>0.608897</td>\n",
       "      <td>0.53125</td>\n",
       "      <td>0.612382</td>\n",
       "    </tr>\n",
       "  </tbody>\n",
       "</table>\n",
       "</div>"
      ],
      "text/plain": [
       "time_signature  0.0       1.0       3.0       4.0      5.0     Total\n",
       "mode                                                                \n",
       "0.0             0.5  0.333333  0.334286  0.391103  0.46875  0.387618\n",
       "1.0             0.5  0.666667  0.665714  0.608897  0.53125  0.612382"
      ]
     },
     "execution_count": 15,
     "metadata": {},
     "output_type": "execute_result"
    }
   ],
   "source": [
    "# A = the event that a song is in a minor key (M)\n",
    "# B = the event that a song has a time signature of 3 (T)\n",
    "\n",
    "# The conditional probability P(T|M) = P(event B occurs given that event A has occured)\n",
    "prob = pd.crosstab(df['mode'], df['time_signature'],\n",
    "           margins=True, margins_name='Total',normalize = 'columns')\n",
    "\n",
    "# The probability that a randomly chosen minor key song has a time signature of 3\n",
    "print(\"Pr(M = '0'| T = '3') = 0.334286\")\n",
    "prob"
   ]
  },
  {
   "cell_type": "markdown",
   "id": "ad5fe211",
   "metadata": {},
   "source": [
    "## Model Fitting\n",
    "\n",
    "Use the Spotify data for the remaining questions on Model Fitting"
   ]
  },
  {
   "cell_type": "markdown",
   "id": "9ba508c6",
   "metadata": {},
   "source": [
    "13\\. Draw a scatter plot of the Energy of each song (on the x-axis) and its Loudness.  Using different colours or different plot symbols, distinguish the songs that have a time signature of 4 (four beats per bar) from all other time signatures. [3 Marks]"
   ]
  },
  {
   "cell_type": "code",
   "execution_count": 17,
   "id": "c1591591",
   "metadata": {},
   "outputs": [
    {
     "data": {
      "image/png": "[encoded data removed]",
      "text/plain": [
       "<Figure size 792x504 with 1 Axes>"
      ]
     },
     "metadata": {
      "needs_background": "light"
     },
     "output_type": "display_data"
    }
   ],
   "source": [
    "# energy (x-axis)\n",
    "# loudness (y-axis) \n",
    "# time signature of 4 (legend)\n",
    "plt.figure(figsize=(11, 7))\n",
    "\n",
    "# For time_signature == 4\n",
    "plt.scatter(df[df['time_signature'] == 4]['energy'],\n",
    "            df[df['time_signature'] == 4]['loudness'],\n",
    "            label='Time Signature is 4', color='magenta', marker='.')\n",
    "\n",
    "# For time_signature != 4\n",
    "plt.scatter(df[df['time_signature'] != 4]['energy'],\n",
    "            df[df['time_signature'] != 4]['loudness'],\n",
    "            label='Other Time Signatures', color='blue', marker='.')\n",
    "\n",
    "plt.xlabel('Energy', fontsize = 12)\n",
    "plt.ylabel('Loudness', fontsize = 12)\n",
    "plt.title('Scatterplot of Energy vs Loudness \\n with Time Signature as the Legend', fontsize = 18)\n",
    "plt.legend()\n",
    "plt.grid(True)\n",
    "plt.show()"
   ]
  },
  {
   "cell_type": "markdown",
   "id": "35a8091d",
   "metadata": {},
   "source": [
    "14\\. Create a new column, logEnergy, in the data set.  Draw a scatter plot of the log of the Energy of each song on the x-axis and its Loudness on the y-axis.  Again distinguish songs with 4 beats per bar from all other time signatures. [1 Mark]"
   ]
  },
  {
   "cell_type": "code",
   "execution_count": 18,
   "id": "f144bee2",
   "metadata": {},
   "outputs": [
    {
     "data": {
      "image/png": "[encoded data removed]",
      "text/plain": [
       "<Figure size 792x504 with 1 Axes>"
      ]
     },
     "metadata": {
      "needs_background": "light"
     },
     "output_type": "display_data"
    }
   ],
   "source": [
    "df['logEnergy'] = np.log(df['energy'])\n",
    "\n",
    "plt.figure(figsize=(11, 7))\n",
    "\n",
    "# For time_signature == 4\n",
    "plt.scatter(df[df['time_signature'] == 4]['logEnergy'],\n",
    "            df[df['time_signature'] == 4]['loudness'],\n",
    "            label='Time Signature is 4', color='magenta', marker='.')\n",
    "\n",
    "# For time_signature != 4\n",
    "plt.scatter(df[df['time_signature'] != 4]['logEnergy'],\n",
    "            df[df['time_signature'] != 4]['loudness'],\n",
    "            label='Other Time Signatures', color='blue', marker='.')\n",
    "\n",
    "plt.xlabel('logEnergy', fontsize = 12)\n",
    "plt.ylabel('Loudness', fontsize = 12)\n",
    "plt.title('Scatterplot of Energy vs Loudness \\n with Time Signature as the Legend', fontsize = 18)\n",
    "plt.legend()\n",
    "plt.grid(True)\n",
    "plt.show()"
   ]
  },
  {
   "cell_type": "markdown",
   "id": "7c9f708a",
   "metadata": {},
   "source": [
    "15\\. The graph after the log transformation looks very different: why are the logged data more suitable for model fitting than the original data?  [1 Mark]\n",
    "\n",
    "The logged data is more suitable for model fitting than the original data because the variances are now stabilised. The relationship between energy and loudness is now more linear. Funnelling is reduced when the log of energy is taken. The transformed energy data is more symmetric than the raw data, making it more suitable for the model fitting. "
   ]
  },
  {
   "cell_type": "markdown",
   "id": "07da8f31",
   "metadata": {},
   "source": [
    "16\\. Fit a regression model for loudness as predicted by log Energy.  \n",
    "  (a) Print out a summary of the model fit"
   ]
  },
  {
   "cell_type": "code",
   "execution_count": 19,
   "id": "efbdf4e2",
   "metadata": {},
   "outputs": [
    {
     "name": "stdout",
     "output_type": "stream",
     "text": [
      "                            OLS Regression Results                            \n",
      "==============================================================================\n",
      "Dep. Variable:               loudness   R-squared:                       0.780\n",
      "Model:                            OLS   Adj. R-squared:                  0.780\n",
      "Method:                 Least Squares   F-statistic:                 3.372e+04\n",
      "Date:                Tue, 15 Aug 2023   Prob (F-statistic):               0.00\n",
      "Time:                        14:31:29   Log-Likelihood:                -22411.\n",
      "No. Observations:                9530   AIC:                         4.483e+04\n",
      "Df Residuals:                    9528   BIC:                         4.484e+04\n",
      "Df Model:                           1                                         \n",
      "Covariance Type:            nonrobust                                         \n",
      "==============================================================================\n",
      "                 coef    std err          t      P>|t|      [0.025      0.975]\n",
      "------------------------------------------------------------------------------\n",
      "Intercept     -4.0528      0.036   -111.798      0.000      -4.124      -3.982\n",
      "logEnergy      6.1516      0.033    183.639      0.000       6.086       6.217\n",
      "==============================================================================\n",
      "Omnibus:                     1633.477   Durbin-Watson:                   1.917\n",
      "Prob(Omnibus):                  0.000   Jarque-Bera (JB):             5808.754\n",
      "Skew:                          -0.843   Prob(JB):                         0.00\n",
      "Kurtosis:                       6.433   Cond. No.                         2.37\n",
      "==============================================================================\n",
      "\n",
      "Notes:\n",
      "[1] Standard Errors assume that the covariance matrix of the errors is correctly specified.\n"
     ]
    }
   ],
   "source": [
    "# Fit a regression model\n",
    "model = smf.ols('loudness ~ logEnergy', data=df).fit()\n",
    "\n",
    "# a) Print out a summary of the model fit\n",
    "print(model.summary())"
   ]
  },
  {
   "cell_type": "markdown",
   "id": "1774ee3c",
   "metadata": {},
   "source": [
    "(b) Plot the fitted curve onto the data"
   ]
  },
  {
   "cell_type": "code",
   "execution_count": 20,
   "id": "6fd6cf20",
   "metadata": {},
   "outputs": [
    {
     "data": {
      "image/png": "[encoded data removed]",
      "text/plain": [
       "<Figure size 720x432 with 1 Axes>"
      ]
     },
     "metadata": {
      "needs_background": "light"
     },
     "output_type": "display_data"
    }
   ],
   "source": [
    "# b) Plot the fitted curve onto the data\n",
    "logEnergy_range = np.linspace(df['logEnergy'].min(), df['logEnergy'].max(), num=100)\n",
    "\n",
    "# Predict the corresponding loudness values using the fitted model\n",
    "predicted_loudness = model.predict({'logEnergy': logEnergy_range})\n",
    "\n",
    "# Plotting\n",
    "plt.figure(figsize=(10, 6))\n",
    "\n",
    "# Scatter plot\n",
    "plt.scatter(df['logEnergy'], df['loudness'], label='Data', color='blue')\n",
    "\n",
    "# Fitted curve\n",
    "plt.plot(logEnergy_range, predicted_loudness, label='Fitted Curve', color='red')\n",
    "\n",
    "plt.xlabel('log(Energy)')\n",
    "plt.ylabel('Loudness')\n",
    "plt.title('Fitted Curve of Loudness vs. log(Energy)')\n",
    "plt.legend()\n",
    "plt.grid(True)\n",
    "plt.show()"
   ]
  },
  {
   "cell_type": "markdown",
   "id": "6aa383b6",
   "metadata": {},
   "source": [
    "(c) Draw a scatter plot of the residuals and comment on them\n",
    "[7 Marks]"
   ]
  },
  {
   "cell_type": "code",
   "execution_count": 21,
   "id": "6028b6e5",
   "metadata": {},
   "outputs": [
    {
     "data": {
      "image/png": "[encoded data removed]",
      "text/plain": [
       "<Figure size 720x432 with 1 Axes>"
      ]
     },
     "metadata": {
      "needs_background": "light"
     },
     "output_type": "display_data"
    }
   ],
   "source": [
    "# c) Draw a scatter plot of the residuals and comment on them\n",
    "residuals = model.resid\n",
    "\n",
    "plt.figure(figsize=(10, 6))\n",
    "\n",
    "# Scatter plot of residuals against predicted values\n",
    "plt.scatter(model.predict(), residuals, color='black')\n",
    "\n",
    "plt.axhline(y=0, color='blue', linestyle='-')  # Add a horizontal line at y=0\n",
    "\n",
    "plt.xlabel('Predicted Loudness')\n",
    "plt.ylabel('Residuals')\n",
    "plt.title('Scatter Plot of Residuals')\n",
    "plt.grid(True)\n",
    "plt.show()\n",
    "\n",
    "# The scatterplot of residuals shows a reasonably even scatter around the zero line at all values of x\n",
    "# (predicted loudness). There is some unusal spread however, but overall, the even scatter suggests that \n",
    "# the model is a good fit. "
   ]
  },
  {
   "cell_type": "markdown",
   "id": "7c1f51ce",
   "metadata": {},
   "source": [
    "17\\. Try adding a quadratic term to the fit, and see if that improves the fit. [3 Marks]"
   ]
  },
  {
   "cell_type": "code",
   "execution_count": 22,
   "id": "c0df27b3",
   "metadata": {},
   "outputs": [
    {
     "data": {
      "image/png": "[encoded data removed]",
      "text/plain": [
       "<Figure size 720x432 with 1 Axes>"
      ]
     },
     "metadata": {
      "needs_background": "light"
     },
     "output_type": "display_data"
    }
   ],
   "source": [
    "df['logEnergy_squared'] = df['logEnergy'] ** 2\n",
    "\n",
    "# Fit a quadratic regression model\n",
    "model_quad = smf.ols('loudness ~ logEnergy + logEnergy_squared', data=df).fit()\n",
    "\n",
    "# Calculate residuals\n",
    "residuals_quad = model_quad.resid\n",
    "\n",
    "# Plotting\n",
    "plt.figure(figsize=(10, 6))\n",
    "\n",
    "# Scatter plot of residuals against predicted values\n",
    "plt.scatter(model_quad.predict(), residuals_quad, color='black')\n",
    "\n",
    "plt.axhline(y=0, color='blue', linestyle='-')  # Add a horizontal line at y=0\n",
    "\n",
    "plt.xlabel('Predicted Loudness')\n",
    "plt.ylabel('Residuals')\n",
    "plt.title('Scatter Plot of Residuals (Quadratic Model)')\n",
    "plt.grid(True)\n",
    "plt.show()\n",
    "\n",
    "# This model with a quadratic term improves the fit of the model. Residuals are more evenly scattered around the \n",
    "# zero line, meaning this model is a better fit than the model without the quadratic term. "
   ]
  },
  {
   "cell_type": "markdown",
   "id": "7dbaafd4",
   "metadata": {},
   "source": [
    "[Total 40 Marks]"
   ]
  }
 ],
 "metadata": {
  "kernelspec": {
   "display_name": "Python 3 (ipykernel)",
   "language": "python",
   "name": "python3"
  },
  "language_info": {
   "codemirror_mode": {
    "name": "ipython",
    "version": 3
   },
   "file_extension": ".py",
   "mimetype": "text/x-python",
   "name": "python",
   "nbconvert_exporter": "python",
   "pygments_lexer": "ipython3",
   "version": "3.9.12"
  }
 },
 "nbformat": 4,
 "nbformat_minor": 5
}
